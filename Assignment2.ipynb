{
  "metadata": {
    "kernelspec": {
      "name": "python",
      "display_name": "Python (Pyodide)",
      "language": "python"
    },
    "language_info": {
      "codemirror_mode": {
        "name": "python",
        "version": 3
      },
      "file_extension": ".py",
      "mimetype": "text/x-python",
      "name": "python",
      "nbconvert_exporter": "python",
      "pygments_lexer": "ipython3",
      "version": "3.8"
    }
  },
  "nbformat_minor": 4,
  "nbformat": 4,
  "cells": [
    {
      "cell_type": "code",
      "source": "1341. Movie Rating\n\nTable: Movies\n\n+---------------+---------+\n| Column Name   | Type    |\n+---------------+---------+\n| movie_id      | int     |\n| title         | varchar |\n+---------------+---------+\nmovie_id is the primary key (column with unique values) for this table.\ntitle is the name of the movie.\n \n\nTable: Users\n\n+---------------+---------+\n| Column Name   | Type    |\n+---------------+---------+\n| user_id       | int     |\n| name          | varchar |\n+---------------+---------+\nuser_id is the primary key (column with unique values) for this table.\nThe column 'name' has unique values.\nTable: MovieRating\n\n+---------------+---------+\n| Column Name   | Type    |\n+---------------+---------+\n| movie_id      | int     |\n| user_id       | int     |\n| rating        | int     |\n| created_at    | date    |\n+---------------+---------+\n(movie_id, user_id) is the primary key (column with unique values) for this table.\nThis table contains the rating of a movie by a user in their review.\ncreated_at is the user's review date. \n \n\nWrite a solution to:\n\nFind the name of the user who has rated the greatest number of movies. In case of a tie, return the lexicographically smaller user name.\nFind the movie name with the highest average rating in February 2020. In case of a tie, return the lexicographically smaller movie name.\nThe result format is in the following example.\n\n \n\nExample 1:\n\nInput: \nMovies table:\n+-------------+--------------+\n| movie_id    |  title       |\n+-------------+--------------+\n| 1           | Avengers     |\n| 2           | Frozen 2     |\n| 3           | Joker        |\n+-------------+--------------+\nUsers table:\n+-------------+--------------+\n| user_id     |  name        |\n+-------------+--------------+\n| 1           | Daniel       |\n| 2           | Monica       |\n| 3           | Maria        |\n| 4           | James        |\n+-------------+--------------+\nMovieRating table:\n+-------------+--------------+--------------+-------------+\n| movie_id    | user_id      | rating       | created_at  |\n+-------------+--------------+--------------+-------------+\n| 1           | 1            | 3            | 2020-01-12  |\n| 1           | 2            | 4            | 2020-02-11  |\n| 1           | 3            | 2            | 2020-02-12  |\n| 1           | 4            | 1            | 2020-01-01  |\n| 2           | 1            | 5            | 2020-02-17  | \n| 2           | 2            | 2            | 2020-02-01  | \n| 2           | 3            | 2            | 2020-03-01  |\n| 3           | 1            | 3            | 2020-02-22  | \n| 3           | 2            | 4            | 2020-02-25  | \n+-------------+--------------+--------------+-------------+\nOutput: \n+--------------+\n| results      |\n+--------------+\n| Daniel       |\n| Frozen 2     |\n+--------------+\nExplanation: \nDaniel and Monica have rated 3 movies (\"Avengers\", \"Frozen 2\" and \"Joker\") but Daniel is smaller lexicographically.\nFrozen 2 and Joker have a rating average of 3.5 in February but Frozen 2 is smaller lexicographically.\n",
      "metadata": {
        "trusted": true
      },
      "outputs": [],
      "execution_count": null
    },
    {
      "cell_type": "code",
      "source": "import pandas as pd\n\ndef movie_rating(movies: pd.DataFrame, users: pd.DataFrame, movie_rating: pd.DataFrame) -> pd.DataFrame:\n    \n    m1 = movie_rating.merge(users, on='user_id', how='left')\n    m2 = m1.merge(movies, on='movie_id', how='left')\n    fr = m2['name'].value_counts()\n    m_user = fr[fr == fr.max()].sort_index(ascending=True).index[0]\n    m_feb = m2[(m2['created_at'] >= '2020-02-01') & (m2['created_at'] <= '2020-02-29')]\n    avg_rat = m_feb.groupby(by='title').agg({'rating':'mean'}).reset_index().sort_values(by=['rating'], ascending=False)\n    max_rat = avg_rat[avg_rat['rating'] == avg_rat['rating'].max()].sort_values(by='title', ascending=True)['title'].iloc[0]\n\n    return pd.DataFrame([m_user, max_rat], columns=['results'])",
      "metadata": {
        "trusted": true
      },
      "outputs": [],
      "execution_count": null
    },
    {
      "cell_type": "code",
      "source": "Input\nMovies =\n| movie_id | title    |\n| -------- | -------- |\n| 1        | Avengers |\n| 2        | Frozen 2 |\n| 3        | Joker    |\nUsers =\n| user_id | name   |\n| ------- | ------ |\n| 1       | Daniel |\n| 2       | Monica |\n| 3       | Maria  |\n| 4       | James  |\nMovieRating =\n| movie_id | user_id | rating | created_at |\n| -------- | ------- | ------ | ---------- |\n| 1        | 1       | 3      | 2020-01-12 |\n| 1        | 2       | 4      | 2020-02-11 |\n| 1        | 3       | 2      | 2020-02-12 |\n| 1        | 4       | 1      | 2020-01-01 |\n| 2        | 1       | 5      | 2020-02-17 |\n| 2        | 2       | 2      | 2020-02-01 |\nView more\nOutput\n| results  |\n| -------- |\n| Daniel   |\n| Frozen 2 |\nExpected\n| results  |\n| -------- |\n| Daniel   |\n| Frozen 2 |",
      "metadata": {
        "trusted": true
      },
      "outputs": [],
      "execution_count": null
    },
    {
      "cell_type": "code",
      "source": "1393. Capital Gain/Loss",
      "metadata": {
        "trusted": true
      },
      "outputs": [],
      "execution_count": null
    },
    {
      "cell_type": "code",
      "source": "Table: Stocks\n\n+---------------+---------+\n| Column Name   | Type    |\n+---------------+---------+\n| stock_name    | varchar |\n| operation     | enum    |\n| operation_day | int     |\n| price         | int     |\n+---------------+---------+\n(stock_name, operation_day) is the primary key (combination of columns with unique values) for this table.\nThe operation column is an ENUM (category) of type ('Sell', 'Buy')\nEach row of this table indicates that the stock which has stock_name had an operation on the day operation_day with the price.\nIt is guaranteed that each 'Sell' operation for a stock has a corresponding 'Buy' operation in a previous day. It is also guaranteed that each 'Buy' operation for a stock has a corresponding 'Sell' operation in an upcoming day.\n \n\nWrite a solution to report the Capital gain/loss for each stock.\n\nThe Capital gain/loss of a stock is the total gain or loss after buying and selling the stock one or many times.\n\nReturn the result table in any order.\n\nThe result format is in the following example.\n\n \n\nExample 1:\n\nInput: \nStocks table:\n+---------------+-----------+---------------+--------+\n| stock_name    | operation | operation_day | price  |\n+---------------+-----------+---------------+--------+\n| Leetcode      | Buy       | 1             | 1000   |\n| Corona Masks  | Buy       | 2             | 10     |\n| Leetcode      | Sell      | 5             | 9000   |\n| Handbags      | Buy       | 17            | 30000  |\n| Corona Masks  | Sell      | 3             | 1010   |\n| Corona Masks  | Buy       | 4             | 1000   |\n| Corona Masks  | Sell      | 5             | 500    |\n| Corona Masks  | Buy       | 6             | 1000   |\n| Handbags      | Sell      | 29            | 7000   |\n| Corona Masks  | Sell      | 10            | 10000  |\n+---------------+-----------+---------------+--------+\nOutput: \n+---------------+-------------------+\n| stock_name    | capital_gain_loss |\n+---------------+-------------------+\n| Corona Masks  | 9500              |\n| Leetcode      | 8000              |\n| Handbags      | -23000            |\n+---------------+-------------------+\nExplanation: \nLeetcode stock was bought at day 1 for 1000$ and was sold at day 5 for 9000$. Capital gain = 9000 - 1000 = 8000$.\nHandbags stock was bought at day 17 for 30000$ and was sold at day 29 for 7000$. Capital loss = 7000 - 30000 = -23000$.\nCorona Masks stock was bought at day 1 for 10$ and was sold at day 3 for 1010$. It was bought again at day 4 for 1000$ and was sold at day 5 for 500$. At last, it was bought at day 6 for 1000$ and was sold at day 10 for 10000$. Capital gain/loss is the sum of capital gains/losses for each ('Buy' --> 'Sell') operation = (1010 - 10) + (500 - 1000) + (10000 - 1000) = 1000 - 500 + 9000 = 9500$.",
      "metadata": {
        "trusted": true
      },
      "outputs": [],
      "execution_count": null
    },
    {
      "cell_type": "code",
      "source": "import pandas as pd\n\ndef capital_gain_loss(stocks: pd.DataFrame) -> pd.DataFrame:\n    stocks['operation'] = stocks['operation'].apply(lambda x: -1 if x == 'Buy' else 1)\n    stocks['price'] *= stocks['operation']\n    return stocks.groupby(\"stock_name\")[\"price\"].sum().reset_index().rename(columns={\"price\":\"capital_gain_loss\"})",
      "metadata": {
        "trusted": true
      },
      "outputs": [],
      "execution_count": null
    },
    {
      "cell_type": "code",
      "source": "Input\nStocks =\n| stock_name   | operation | operation_day | price |\n| ------------ | --------- | ------------- | ----- |\n| Leetcode     | Buy       | 1             | 1000  |\n| Corona Masks | Buy       | 2             | 10    |\n| Leetcode     | Sell      | 5             | 9000  |\n| Handbags     | Buy       | 17            | 30000 |\n| Corona Masks | Sell      | 3             | 1010  |\n| Corona Masks | Buy       | 4             | 1000  |\nView more\nOutput\n| stock_name   | capital_gain_loss |\n| ------------ | ----------------- |\n| Corona Masks | 9500              |\n| Handbags     | -23000            |\n| Leetcode     | 8000              |\nExpected\n| stock_name   | capital_gain_loss |\n| ------------ | ----------------- |\n| Leetcode     | 8000              |\n| Corona Masks | 9500              |\n| Handbags     | -23000            |",
      "metadata": {
        "trusted": true
      },
      "outputs": [],
      "execution_count": null
    },
    {
      "cell_type": "code",
      "source": "176. Second Highest Salary",
      "metadata": {
        "trusted": true
      },
      "outputs": [],
      "execution_count": null
    },
    {
      "cell_type": "code",
      "source": "Table: Employee\n\n+-------------+------+\n| Column Name | Type |\n+-------------+------+\n| id          | int  |\n| salary      | int  |\n+-------------+------+\nid is the primary key (column with unique values) for this table.\nEach row of this table contains information about the salary of an employee.\n \n\nWrite a solution to find the second highest distinct salary from the Employee table. If there is no second highest salary, return null (return None in Pandas).\n\nThe result format is in the following example.\n\n \n\nExample 1:\n\nInput: \nEmployee table:\n+----+--------+\n| id | salary |\n+----+--------+\n| 1  | 100    |\n| 2  | 200    |\n| 3  | 300    |\n+----+--------+\nOutput: \n+---------------------+\n| SecondHighestSalary |\n+---------------------+\n| 200                 |\n+---------------------+\nExample 2:\n\nInput: \nEmployee table:\n+----+--------+\n| id | salary |\n+----+--------+\n| 1  | 100    |\n+----+--------+\nOutput: \n+---------------------+\n| SecondHighestSalary |\n+---------------------+\n| null                |\n+---------------------+",
      "metadata": {
        "trusted": true
      },
      "outputs": [],
      "execution_count": null
    },
    {
      "cell_type": "code",
      "source": "import pandas as pd\n\ndef second_highest_salary(employee: pd.DataFrame) -> pd.DataFrame:\n    unique_salaries = employee['salary'].drop_duplicates()\n    second_highest = unique_salaries.nlargest(2).iloc[-1] if len(unique_salaries) >= 2 else None\n    if second_highest is None:\n        return pd.DataFrame({'SecondHighestSalary': [None]})\n    result_df = pd.DataFrame({'SecondHighestSalary': [second_highest]})\n\n    return result_df",
      "metadata": {
        "trusted": true
      },
      "outputs": [],
      "execution_count": null
    },
    {
      "cell_type": "code",
      "source": "Employee =\n| id | salary |\n| -- | ------ |\n| 1  | 100    |\n| 2  | 200    |\n| 3  | 300    |\nOutput\n| SecondHighestSalary |\n| ------------------- |\n| 200                 |\nExpected\n| SecondHighestSalary |\n| ------------------- |\n| 200                 |",
      "metadata": {
        "trusted": true
      },
      "outputs": [],
      "execution_count": null
    }
  ]
}